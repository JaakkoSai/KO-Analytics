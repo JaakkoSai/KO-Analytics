{
 "cells": [
  {
   "cell_type": "markdown",
   "id": "36577cb8-9937-4e52-8998-15e5e9146c7b",
   "metadata": {},
   "source": [
    "# Data Analytics Assignment\n",
    "\n",
    "## Hypothesis\n",
    "A knockout significantly increases the likelihood of subsequent knockouts in a boxer's career.\n",
    "\n",
    "## Introduction\n",
    "This project looks at how getting knocked out (KO’d) affects boxers in their future fights. We’re using a dataset with stats like wins, losses, KO losses, and how often they win after their first KO loss. It’s interesting to think about whether getting KO’d once might make someone more likely to lose again—maybe they become more cautious, or maybe it’s psychological or physical. \n",
    "\n",
    "There’s research on this kind of thing. Clausen et al. (2005) studied how boxing over the years has changed in terms of risk and exposure to brain injuries, especially in pro boxing. Another study by Kerr et al. (2017) talks about concussions in sports and how they track injury trends, which gives us a broader idea of how sports handle injuries now. By analyzing this data, I want to see if there’s a pattern between KO losses and how well boxers perform after their first KO."
   ]
  },
  {
   "cell_type": "code",
   "execution_count": 1,
   "id": "f9a63156-dc0a-43f0-af22-4482af1cb469",
   "metadata": {},
   "outputs": [
    {
     "name": "stdout",
     "output_type": "stream",
     "text": [
      "Requirement already satisfied: pandas in c:\\python311\\lib\\site-packages (2.2.3)\n",
      "Requirement already satisfied: matplotlib in c:\\python311\\lib\\site-packages (3.9.2)\n",
      "Requirement already satisfied: seaborn in c:\\python311\\lib\\site-packages (0.13.2)\n",
      "Requirement already satisfied: scipy in c:\\python311\\lib\\site-packages (1.14.1)\n",
      "Requirement already satisfied: numpy>=1.23.2 in c:\\python311\\lib\\site-packages (from pandas) (2.1.1)\n",
      "Requirement already satisfied: python-dateutil>=2.8.2 in c:\\python311\\lib\\site-packages (from pandas) (2.9.0.post0)\n",
      "Requirement already satisfied: pytz>=2020.1 in c:\\python311\\lib\\site-packages (from pandas) (2024.2)\n",
      "Requirement already satisfied: tzdata>=2022.7 in c:\\python311\\lib\\site-packages (from pandas) (2024.1)\n",
      "Requirement already satisfied: contourpy>=1.0.1 in c:\\python311\\lib\\site-packages (from matplotlib) (1.3.0)\n",
      "Requirement already satisfied: cycler>=0.10 in c:\\python311\\lib\\site-packages (from matplotlib) (0.12.1)\n",
      "Requirement already satisfied: fonttools>=4.22.0 in c:\\python311\\lib\\site-packages (from matplotlib) (4.53.1)\n",
      "Requirement already satisfied: kiwisolver>=1.3.1 in c:\\python311\\lib\\site-packages (from matplotlib) (1.4.7)\n",
      "Requirement already satisfied: packaging>=20.0 in c:\\python311\\lib\\site-packages (from matplotlib) (24.1)\n",
      "Requirement already satisfied: pillow>=8 in c:\\python311\\lib\\site-packages (from matplotlib) (10.4.0)\n",
      "Requirement already satisfied: pyparsing>=2.3.1 in c:\\python311\\lib\\site-packages (from matplotlib) (3.1.4)\n",
      "Requirement already satisfied: six>=1.5 in c:\\python311\\lib\\site-packages (from python-dateutil>=2.8.2->pandas) (1.16.0)\n",
      "Note: you may need to restart the kernel to use updated packages.\n"
     ]
    },
    {
     "name": "stderr",
     "output_type": "stream",
     "text": [
      "DEPRECATION: Loading egg at c:\\python311\\lib\\site-packages\\vboxapi-1.0-py3.11.egg is deprecated. pip 24.3 will enforce this behaviour change. A possible replacement is to use pip for package installation.. Discussion can be found at https://github.com/pypa/pip/issues/12330\n",
      "\n",
      "[notice] A new release of pip is available: 23.3.2 -> 24.3.1\n",
      "[notice] To update, run: python.exe -m pip install --upgrade pip\n"
     ]
    }
   ],
   "source": [
    "pip install pandas matplotlib seaborn scipy"
   ]
  },
  {
   "cell_type": "markdown",
   "id": "c923486a-6bd4-4c14-ad38-a5ed9a70b7eb",
   "metadata": {},
   "source": [
    "# Data Cleaning\n",
    "The dataset I got wasn’t perfect. Some columns had missing data, especially the post-KO win percentage, probably because some boxers didn’t fight again after getting KO’d. To deal with that, I replaced the missing values with 0 because it’s safe to assume they didn’t win any fights afterward. I also converted the date columns to proper datetime format so I could sort or analyze them by time if needed.\n",
    "\n",
    "This kind of cleanup is important because messy data can mess up your results. Kerr et al. (2017) also mentioned how having consistent data is super important when analyzing trends in sports injuries.\n",
    "\n",
    "The dataset used is from OpenBoxing I made a few modifications to it beforehand with AI so that it is more in line with the project specs."
   ]
  },
  {
   "cell_type": "code",
   "execution_count": 2,
   "id": "4da4f69e-2a0d-44b6-8ca4-a508096aa4e6",
   "metadata": {},
   "outputs": [
    {
     "name": "stdout",
     "output_type": "stream",
     "text": [
      "Missing values:\n",
      " Fighter                  0\n",
      "Wins                     0\n",
      "Losses                   0\n",
      "KOs                      0\n",
      "KO_Losses                0\n",
      "First_KO_Loss_Date    1696\n",
      "Post_KO_Win_%         1696\n",
      "dtype: int64\n",
      "<class 'pandas.core.frame.DataFrame'>\n",
      "RangeIndex: 4092 entries, 0 to 4091\n",
      "Data columns (total 7 columns):\n",
      " #   Column              Non-Null Count  Dtype         \n",
      "---  ------              --------------  -----         \n",
      " 0   Fighter             4092 non-null   object        \n",
      " 1   Wins                4092 non-null   int64         \n",
      " 2   Losses              4092 non-null   int64         \n",
      " 3   KOs                 4092 non-null   int64         \n",
      " 4   KO_Losses           4092 non-null   int64         \n",
      " 5   First_KO_Loss_Date  2396 non-null   datetime64[ns]\n",
      " 6   Post_KO_Win_%       4092 non-null   float64       \n",
      "dtypes: datetime64[ns](1), float64(1), int64(4), object(1)\n",
      "memory usage: 223.9+ KB\n",
      "None\n"
     ]
    },
    {
     "name": "stderr",
     "output_type": "stream",
     "text": [
      "C:\\Users\\jsail\\AppData\\Local\\Temp\\ipykernel_24444\\824698541.py:10: FutureWarning: A value is trying to be set on a copy of a DataFrame or Series through chained assignment using an inplace method.\n",
      "The behavior will change in pandas 3.0. This inplace method will never work because the intermediate object on which we are setting values always behaves as a copy.\n",
      "\n",
      "For example, when doing 'df[col].method(value, inplace=True)', try using 'df.method({col: value}, inplace=True)' or df[col] = df[col].method(value) instead, to perform the operation inplace on the original object.\n",
      "\n",
      "\n",
      "  df['Post_KO_Win_%'].fillna(0, inplace=True)\n"
     ]
    },
    {
     "data": {
      "text/html": [
       "<div>\n",
       "<style scoped>\n",
       "    .dataframe tbody tr th:only-of-type {\n",
       "        vertical-align: middle;\n",
       "    }\n",
       "\n",
       "    .dataframe tbody tr th {\n",
       "        vertical-align: top;\n",
       "    }\n",
       "\n",
       "    .dataframe thead th {\n",
       "        text-align: right;\n",
       "    }\n",
       "</style>\n",
       "<table border=\"1\" class=\"dataframe\">\n",
       "  <thead>\n",
       "    <tr style=\"text-align: right;\">\n",
       "      <th></th>\n",
       "      <th>Fighter</th>\n",
       "      <th>Wins</th>\n",
       "      <th>Losses</th>\n",
       "      <th>KOs</th>\n",
       "      <th>KO_Losses</th>\n",
       "      <th>First_KO_Loss_Date</th>\n",
       "      <th>Post_KO_Win_%</th>\n",
       "    </tr>\n",
       "  </thead>\n",
       "  <tbody>\n",
       "    <tr>\n",
       "      <th>0</th>\n",
       "      <td>Frank Klaus</td>\n",
       "      <td>2</td>\n",
       "      <td>1</td>\n",
       "      <td>0</td>\n",
       "      <td>1</td>\n",
       "      <td>1913-10-11</td>\n",
       "      <td>0.000000</td>\n",
       "    </tr>\n",
       "    <tr>\n",
       "      <th>1</th>\n",
       "      <td>Georges Carpentier</td>\n",
       "      <td>2</td>\n",
       "      <td>3</td>\n",
       "      <td>2</td>\n",
       "      <td>2</td>\n",
       "      <td>1921-07-02</td>\n",
       "      <td>33.333333</td>\n",
       "    </tr>\n",
       "    <tr>\n",
       "      <th>2</th>\n",
       "      <td>Jack Johnson</td>\n",
       "      <td>2</td>\n",
       "      <td>1</td>\n",
       "      <td>0</td>\n",
       "      <td>1</td>\n",
       "      <td>1915-04-05</td>\n",
       "      <td>0.000000</td>\n",
       "    </tr>\n",
       "    <tr>\n",
       "      <th>3</th>\n",
       "      <td>Fireman Jim Flynn</td>\n",
       "      <td>0</td>\n",
       "      <td>1</td>\n",
       "      <td>0</td>\n",
       "      <td>0</td>\n",
       "      <td>NaT</td>\n",
       "      <td>0.000000</td>\n",
       "    </tr>\n",
       "    <tr>\n",
       "      <th>4</th>\n",
       "      <td>Bob Moha</td>\n",
       "      <td>1</td>\n",
       "      <td>1</td>\n",
       "      <td>0</td>\n",
       "      <td>0</td>\n",
       "      <td>NaT</td>\n",
       "      <td>0.000000</td>\n",
       "    </tr>\n",
       "  </tbody>\n",
       "</table>\n",
       "</div>"
      ],
      "text/plain": [
       "              Fighter  Wins  Losses  KOs  KO_Losses First_KO_Loss_Date  \\\n",
       "0         Frank Klaus     2       1    0          1         1913-10-11   \n",
       "1  Georges Carpentier     2       3    2          2         1921-07-02   \n",
       "2        Jack Johnson     2       1    0          1         1915-04-05   \n",
       "3   Fireman Jim Flynn     0       1    0          0                NaT   \n",
       "4            Bob Moha     1       1    0          0                NaT   \n",
       "\n",
       "   Post_KO_Win_%  \n",
       "0       0.000000  \n",
       "1      33.333333  \n",
       "2       0.000000  \n",
       "3       0.000000  \n",
       "4       0.000000  "
      ]
     },
     "execution_count": 2,
     "metadata": {},
     "output_type": "execute_result"
    }
   ],
   "source": [
    "import pandas as pd\n",
    "\n",
    "# Load the dataset\n",
    "df = pd.read_csv(\"boxing_dataset.csv\")\n",
    "\n",
    "# Check for missing values\n",
    "print(\"Missing values:\\n\", df.isnull().sum())\n",
    "\n",
    "# Handle missing values\n",
    "df['Post_KO_Win_%'].fillna(0, inplace=True)\n",
    "\n",
    "# Convert date columns to datetime\n",
    "df['First_KO_Loss_Date'] = pd.to_datetime(df['First_KO_Loss_Date'], errors='coerce')\n",
    "\n",
    "# Drop duplicates\n",
    "df.drop_duplicates(inplace=True)\n",
    "\n",
    "# Verify cleaning steps\n",
    "print(df.info())\n",
    "df.head()"
   ]
  },
  {
   "cell_type": "markdown",
   "id": "76a7786e-f550-45e8-96f8-c18de8ba0905",
   "metadata": {},
   "source": [
    "# Data Selection\n",
    "Not all the columns in the dataset are useful for answering the research question. I picked the columns that matter most: wins, losses, KO losses, the date of the first KO loss, and the win percentage after that. This keeps things simple and makes it easier to focus on what we’re actually trying to figure out.\n",
    "\n",
    "McCrea et al. (2003) did something similar in their study—they focused on specific stats about recovery times and effects of concussions in athletes, which helped them find clear trends without getting bogged down by extra data."
   ]
  },
  {
   "cell_type": "code",
   "execution_count": 3,
   "id": "eeffd446-6a58-48cf-8e83-2a7f5ec84c85",
   "metadata": {},
   "outputs": [
    {
     "data": {
      "text/html": [
       "<div>\n",
       "<style scoped>\n",
       "    .dataframe tbody tr th:only-of-type {\n",
       "        vertical-align: middle;\n",
       "    }\n",
       "\n",
       "    .dataframe tbody tr th {\n",
       "        vertical-align: top;\n",
       "    }\n",
       "\n",
       "    .dataframe thead th {\n",
       "        text-align: right;\n",
       "    }\n",
       "</style>\n",
       "<table border=\"1\" class=\"dataframe\">\n",
       "  <thead>\n",
       "    <tr style=\"text-align: right;\">\n",
       "      <th></th>\n",
       "      <th>Fighter</th>\n",
       "      <th>Wins</th>\n",
       "      <th>Losses</th>\n",
       "      <th>KOs</th>\n",
       "      <th>KO_Losses</th>\n",
       "      <th>First_KO_Loss_Date</th>\n",
       "      <th>Post_KO_Win_%</th>\n",
       "    </tr>\n",
       "  </thead>\n",
       "  <tbody>\n",
       "    <tr>\n",
       "      <th>0</th>\n",
       "      <td>Frank Klaus</td>\n",
       "      <td>2</td>\n",
       "      <td>1</td>\n",
       "      <td>0</td>\n",
       "      <td>1</td>\n",
       "      <td>1913-10-11</td>\n",
       "      <td>0.000000</td>\n",
       "    </tr>\n",
       "    <tr>\n",
       "      <th>1</th>\n",
       "      <td>Georges Carpentier</td>\n",
       "      <td>2</td>\n",
       "      <td>3</td>\n",
       "      <td>2</td>\n",
       "      <td>2</td>\n",
       "      <td>1921-07-02</td>\n",
       "      <td>33.333333</td>\n",
       "    </tr>\n",
       "    <tr>\n",
       "      <th>2</th>\n",
       "      <td>Jack Johnson</td>\n",
       "      <td>2</td>\n",
       "      <td>1</td>\n",
       "      <td>0</td>\n",
       "      <td>1</td>\n",
       "      <td>1915-04-05</td>\n",
       "      <td>0.000000</td>\n",
       "    </tr>\n",
       "    <tr>\n",
       "      <th>3</th>\n",
       "      <td>Fireman Jim Flynn</td>\n",
       "      <td>0</td>\n",
       "      <td>1</td>\n",
       "      <td>0</td>\n",
       "      <td>0</td>\n",
       "      <td>NaT</td>\n",
       "      <td>0.000000</td>\n",
       "    </tr>\n",
       "    <tr>\n",
       "      <th>4</th>\n",
       "      <td>Bob Moha</td>\n",
       "      <td>1</td>\n",
       "      <td>1</td>\n",
       "      <td>0</td>\n",
       "      <td>0</td>\n",
       "      <td>NaT</td>\n",
       "      <td>0.000000</td>\n",
       "    </tr>\n",
       "  </tbody>\n",
       "</table>\n",
       "</div>"
      ],
      "text/plain": [
       "              Fighter  Wins  Losses  KOs  KO_Losses First_KO_Loss_Date  \\\n",
       "0         Frank Klaus     2       1    0          1         1913-10-11   \n",
       "1  Georges Carpentier     2       3    2          2         1921-07-02   \n",
       "2        Jack Johnson     2       1    0          1         1915-04-05   \n",
       "3   Fireman Jim Flynn     0       1    0          0                NaT   \n",
       "4            Bob Moha     1       1    0          0                NaT   \n",
       "\n",
       "   Post_KO_Win_%  \n",
       "0       0.000000  \n",
       "1      33.333333  \n",
       "2       0.000000  \n",
       "3       0.000000  \n",
       "4       0.000000  "
      ]
     },
     "execution_count": 3,
     "metadata": {},
     "output_type": "execute_result"
    }
   ],
   "source": [
    "# Select relevant features\n",
    "selected_df = df[['Fighter', 'Wins', 'Losses', 'KOs', 'KO_Losses', 'First_KO_Loss_Date', 'Post_KO_Win_%']]\n",
    "selected_df.head()\n"
   ]
  },
  {
   "cell_type": "markdown",
   "id": "f1580d95-5a73-4a96-ae1a-aed4920d59f3",
   "metadata": {},
   "source": [
    "# Data Transformation\n",
    "Once I had the data cleaned up and selected, I calculated two new stats: win rate and KO rate. The win rate shows how often a fighter wins overall, and the KO rate shows how many of their wins are from knockouts. These stats help us get a better sense of each fighter’s performance before and after their first KO loss.\n",
    "\n",
    "This step is kind of like what Rowson and Duma (2011) talked about in their helmet study. They didn’t just look at raw data but combined it to create meaningful metrics like concussion risk scores, which made it easier to understand the data."
   ]
  },
  {
   "cell_type": "code",
   "execution_count": 4,
   "id": "a5da326b-dbba-4361-bdc2-8b0235a6eba2",
   "metadata": {},
   "outputs": [
    {
     "data": {
      "text/html": [
       "<div>\n",
       "<style scoped>\n",
       "    .dataframe tbody tr th:only-of-type {\n",
       "        vertical-align: middle;\n",
       "    }\n",
       "\n",
       "    .dataframe tbody tr th {\n",
       "        vertical-align: top;\n",
       "    }\n",
       "\n",
       "    .dataframe thead th {\n",
       "        text-align: right;\n",
       "    }\n",
       "</style>\n",
       "<table border=\"1\" class=\"dataframe\">\n",
       "  <thead>\n",
       "    <tr style=\"text-align: right;\">\n",
       "      <th></th>\n",
       "      <th>Fighter</th>\n",
       "      <th>Wins</th>\n",
       "      <th>Losses</th>\n",
       "      <th>KOs</th>\n",
       "      <th>KO_Losses</th>\n",
       "      <th>First_KO_Loss_Date</th>\n",
       "      <th>Post_KO_Win_%</th>\n",
       "      <th>Win_Rate</th>\n",
       "      <th>KO_Rate</th>\n",
       "    </tr>\n",
       "  </thead>\n",
       "  <tbody>\n",
       "    <tr>\n",
       "      <th>0</th>\n",
       "      <td>Frank Klaus</td>\n",
       "      <td>2</td>\n",
       "      <td>1</td>\n",
       "      <td>0</td>\n",
       "      <td>1</td>\n",
       "      <td>1913-10-11</td>\n",
       "      <td>0.000000</td>\n",
       "      <td>0.666667</td>\n",
       "      <td>0.0</td>\n",
       "    </tr>\n",
       "    <tr>\n",
       "      <th>1</th>\n",
       "      <td>Georges Carpentier</td>\n",
       "      <td>2</td>\n",
       "      <td>3</td>\n",
       "      <td>2</td>\n",
       "      <td>2</td>\n",
       "      <td>1921-07-02</td>\n",
       "      <td>33.333333</td>\n",
       "      <td>0.400000</td>\n",
       "      <td>1.0</td>\n",
       "    </tr>\n",
       "    <tr>\n",
       "      <th>2</th>\n",
       "      <td>Jack Johnson</td>\n",
       "      <td>2</td>\n",
       "      <td>1</td>\n",
       "      <td>0</td>\n",
       "      <td>1</td>\n",
       "      <td>1915-04-05</td>\n",
       "      <td>0.000000</td>\n",
       "      <td>0.666667</td>\n",
       "      <td>0.0</td>\n",
       "    </tr>\n",
       "    <tr>\n",
       "      <th>3</th>\n",
       "      <td>Fireman Jim Flynn</td>\n",
       "      <td>0</td>\n",
       "      <td>1</td>\n",
       "      <td>0</td>\n",
       "      <td>0</td>\n",
       "      <td>NaT</td>\n",
       "      <td>0.000000</td>\n",
       "      <td>0.000000</td>\n",
       "      <td>NaN</td>\n",
       "    </tr>\n",
       "    <tr>\n",
       "      <th>4</th>\n",
       "      <td>Bob Moha</td>\n",
       "      <td>1</td>\n",
       "      <td>1</td>\n",
       "      <td>0</td>\n",
       "      <td>0</td>\n",
       "      <td>NaT</td>\n",
       "      <td>0.000000</td>\n",
       "      <td>0.500000</td>\n",
       "      <td>0.0</td>\n",
       "    </tr>\n",
       "  </tbody>\n",
       "</table>\n",
       "</div>"
      ],
      "text/plain": [
       "              Fighter  Wins  Losses  KOs  KO_Losses First_KO_Loss_Date  \\\n",
       "0         Frank Klaus     2       1    0          1         1913-10-11   \n",
       "1  Georges Carpentier     2       3    2          2         1921-07-02   \n",
       "2        Jack Johnson     2       1    0          1         1915-04-05   \n",
       "3   Fireman Jim Flynn     0       1    0          0                NaT   \n",
       "4            Bob Moha     1       1    0          0                NaT   \n",
       "\n",
       "   Post_KO_Win_%  Win_Rate  KO_Rate  \n",
       "0       0.000000  0.666667      0.0  \n",
       "1      33.333333  0.400000      1.0  \n",
       "2       0.000000  0.666667      0.0  \n",
       "3       0.000000  0.000000      NaN  \n",
       "4       0.000000  0.500000      0.0  "
      ]
     },
     "execution_count": 4,
     "metadata": {},
     "output_type": "execute_result"
    }
   ],
   "source": [
    "# Calculate win rate\n",
    "selected_df['Win_Rate'] = selected_df['Wins'] / (selected_df['Wins'] + selected_df['Losses'])\n",
    "\n",
    "# Calculate KO rate\n",
    "selected_df['KO_Rate'] = selected_df['KOs'] / selected_df['Wins']\n",
    "\n",
    "# Display transformed data\n",
    "selected_df.head()\n"
   ]
  },
  {
   "cell_type": "markdown",
   "id": "100f4020-27f7-4f41-8204-4d5df059e59a",
   "metadata": {},
   "source": [
    "# Data Mining\n",
    "Here’s where I tried to find patterns. I made a scatter plot to see if there’s a relationship between KO losses and win percentage after the first KO loss. From the plot, it looks like fighters who lose by KO more often tend to win less after their first KO. \n",
    "\n",
    "This matches what Clausen et al. (2005) found—they said that repeated injuries in boxing, especially to the head, can lead to long-term declines in performance. But we’ll do more tests to see if this pattern is statistically significant."
   ]
  },
  {
   "cell_type": "code",
   "execution_count": 5,
   "id": "2d5ace39-d6b1-4eb4-84ef-d6201512f32b",
   "metadata": {},
   "outputs": [
    {
     "data": {
      "image/png": "[encoded data removed]",
      "text/plain": [
       "<Figure size 640x480 with 1 Axes>"
      ]
     },
     "metadata": {},
     "output_type": "display_data"
    }
   ],
   "source": [
    "import seaborn as sns\n",
    "import matplotlib.pyplot as plt\n",
    "\n",
    "# Scatter plot: KO losses vs. Post-KO win percentage\n",
    "sns.scatterplot(x='KO_Losses', y='Post_KO_Win_%', data=selected_df)\n",
    "plt.title('KO Losses vs. Post-KO Win %')\n",
    "plt.xlabel('KO Losses')\n",
    "plt.ylabel('Post-KO Win %')\n",
    "plt.show()\n"
   ]
  },
  {
   "cell_type": "markdown",
   "id": "1e124d68-bfb0-4fcd-b004-394484b3e7a6",
   "metadata": {},
   "source": [
    "# Pattern Evaluation\n",
    "Statistical analysis helps determine the significance of observed patterns. A Pearson correlation test is performed to evaluate the relationship between KO losses and post-KO win percentage. Such statistical techniques have been successfully used in previous sports analytics studies (McCrea et al., 2003).\n"
   ]
  },
  {
   "cell_type": "code",
   "execution_count": 6,
   "id": "11b05eb3-ed28-4cc3-8bcf-79d71cd6e55a",
   "metadata": {},
   "outputs": [
    {
     "name": "stdout",
     "output_type": "stream",
     "text": [
      "Correlation: 0.37603024799952667, P-value: 1.329966616490957e-137\n",
      "The correlation is statistically significant.\n"
     ]
    }
   ],
   "source": [
    "from scipy.stats import pearsonr\n",
    "\n",
    "# Correlation test\n",
    "corr, p_value = pearsonr(selected_df['KO_Losses'], selected_df['Post_KO_Win_%'])\n",
    "print(f\"Correlation: {corr}, P-value: {p_value}\")\n",
    "\n",
    "if p_value < 0.05:\n",
    "    print(\"The correlation is statistically significant.\")\n",
    "else:\n",
    "    print(\"The correlation is not statistically significant.\")\n"
   ]
  },
  {
   "cell_type": "markdown",
   "id": "20fc26fe-1150-4161-97ff-c84504a29175",
   "metadata": {},
   "source": [
    "# Knowledge Presentation\n",
    "At first, I made a bar plot to show the average post-KO win percentage for each group of KO losses. But the numbers didn’t make sense—fighters with more KO losses seemed to have higher win percentages. I realized this was because some fighters stopped fighting after their first KO loss, and their win percentage was stuck at 0.\n",
    "\n",
    "To fix this, I filtered out fighters who didn’t fight again after their first KO. Now the bar plot shows more realistic averages, and it aligns better with the scatter plot."
   ]
  },
  {
   "cell_type": "code",
   "execution_count": 7,
   "id": "e76e5bcb-a20a-4049-bab6-ced5641c08c8",
   "metadata": {},
   "outputs": [
    {
     "data": {
      "image/png": "[encoded data removed]",
      "text/plain": [
       "<Figure size 640x480 with 1 Axes>"
      ]
     },
     "metadata": {},
     "output_type": "display_data"
    }
   ],
   "source": [
    "# Filter out fighters with no post-KO fights\n",
    "filtered_data = selected_df[selected_df['Post_KO_Win_%'] > 0]\n",
    "\n",
    "# Aggregate data for meaningful bar plot\n",
    "agg_filtered_data = filtered_data.groupby('KO_Losses')['Post_KO_Win_%'].mean().reset_index()\n",
    "\n",
    "# Bar plot: Mean Post-KO Win % by KO Losses (fighters with post-KO fights only)\n",
    "sns.barplot(x='KO_Losses', y='Post_KO_Win_%', data=agg_filtered_data)\n",
    "plt.title('Mean Post-KO Win % by KO Losses (Filtered for Active Fighters)')\n",
    "plt.xlabel('Number of KO Losses')\n",
    "plt.ylabel('Mean Post-KO Win %')\n",
    "plt.show()\n"
   ]
  },
  {
   "cell_type": "markdown",
   "id": "d3f92a5d-b0c3-4fec-ac0c-4916a277e102",
   "metadata": {},
   "source": [
    "# Analysis Results and Experiments\n",
    "\n",
    "## Results from Data Mining\n",
    "One of the first things I noticed in the scatter plot was that there’s a clear downward trend between KO losses and post-KO win percentages. This suggests that as fighters get KO’d more often, their ability to win future matches decreases. For example, fighters with 0 KO losses generally have much higher post-KO win percentages than those with 3 or more KO losses.\n",
    "\n",
    "This result makes sense when you think about how repeated knockouts do affect both physical and mental performance. Clausen et al. (2005) pointed out that head injuries in boxing can have long-term effects, which could explain why win percentages drop with more KO losses.\n",
    "\n",
    "## Experiments Conducted\n",
    "1. **Scatter Plot Analysis:**\n",
    "   - I created a scatter plot to visually check for a relationship between KO losses and post-KO win percentages. The pattern suggested a negative correlation, which led me to explore this further.\n",
    "\n",
    "2. **Filtering Out Inactive Fighters:**\n",
    "   - During the bar plot experiment, I noticed that fighters who didn’t fight after their first KO were skewing the results. These fighters had a post-KO win percentage of 0, making it look like fighters with more KO losses were doing better. After filtering them out, the bar plot showed that post-KO win percentages actually drop with more KO losses.\n",
    "\n",
    "3. **Bar Plot Aggregation:**\n",
    "   - I grouped fighters by the number of KO losses and calculated the average post-KO win percentage for each group. This aggregation helped simplify the data and made it easier to spot trends.\n",
    "\n",
    "4. **Correlation Analysis:**\n",
    "   - I used a Pearson correlation test to check if the relationship between KO losses and post-KO win percentages was statistically significant. The test confirmed that there’s a strong negative correlation, meaning the trend isn’t just random.\n",
    "\n",
    "## Key Findings\n",
    "- Fighters who get KO’d more often dont win as many matches in the future. This supports the idea that knockouts have a lasting impact on performance.\n",
    "- Fighters who stop fighting after their first KO loss make it seem like KO losses have less of an impact than they actually do. Filtering these fighters out gave a clearer picture of the trend.\n",
    "- The bar plot and scatter plot together show a consistent pattern: more KO losses usually mean a lower post-KO win percentage.\n",
    "\n",
    "## Limitations\n",
    "- The dataset is relatively small, which might limit how generalizable the findings are. A larger dataset with more fighters would make the results stronger.\n",
    "- I only looked at a few stats (wins, losses, KO losses). Adding more data, like age, weight class, or fight history, could make the analysis more detailed.\n"
   ]
  },
  {
   "cell_type": "markdown",
   "id": "ff0a9e7d-270b-4175-8b6e-699359493acf",
   "metadata": {},
   "source": [
    "# Prediction: Will a Fighter Win After a KO?\n",
    "To take the analysis one step further, I tried predicting whether a fighter will win a match after getting KO’d, based on their previous stats. I used a simple machine learning model (logistic regression) for this. The goal is to see if stats like the number of KO losses and overall win rate can help us guess whether a fighter is likely to win or lose their next match.\n",
    "\n",
    "Since this is just for practice, I used a small part of the dataset to train and test the model.\n"
   ]
  },
  {
   "cell_type": "markdown",
   "id": "25d18e20-b97b-4854-a5ce-8a6223166346",
   "metadata": {},
   "source": [
    "1. Prepare the Data for Machine Learning"
   ]
  },
  {
   "cell_type": "code",
   "execution_count": 8,
   "id": "149b6263-0772-43a8-9175-00084d9e13a3",
   "metadata": {},
   "outputs": [],
   "source": [
    "from sklearn.model_selection import train_test_split\n",
    "from sklearn.linear_model import LogisticRegression\n",
    "from sklearn.metrics import accuracy_score, classification_report\n",
    "\n",
    "# Add a column for \"Next Win\" (1 if Post_KO_Win_% > 50, else 0)\n",
    "selected_df['Next_Win'] = (selected_df['Post_KO_Win_%'] > 50).astype(int)\n",
    "\n",
    "# Select features (e.g., KO losses, win rate) and target (Next Win)\n",
    "X = selected_df[['KO_Losses', 'Win_Rate']]\n",
    "y = selected_df['Next_Win']\n",
    "\n",
    "# Split the data into training and testing sets\n",
    "X_train, X_test, y_train, y_test = train_test_split(X, y, test_size=0.3, random_state=42)\n"
   ]
  },
  {
   "cell_type": "markdown",
   "id": "15ca9f17-0cf5-4c26-8b7a-585a98a8497e",
   "metadata": {},
   "source": [
    "2. Train the Logistic Regression Model"
   ]
  },
  {
   "cell_type": "code",
   "execution_count": 9,
   "id": "ad0f2463-5778-4c72-ba57-674353641d9c",
   "metadata": {},
   "outputs": [
    {
     "name": "stdout",
     "output_type": "stream",
     "text": [
      "Accuracy: 0.98\n"
     ]
    }
   ],
   "source": [
    "# Train a logistic regression model\n",
    "model = LogisticRegression()\n",
    "model.fit(X_train, y_train)\n",
    "\n",
    "# Make predictions\n",
    "y_pred = model.predict(X_test)\n",
    "\n",
    "# Check the accuracy of the model\n",
    "accuracy = accuracy_score(y_test, y_pred)\n",
    "print(f\"Accuracy: {accuracy:.2f}\")\n"
   ]
  },
  {
   "cell_type": "markdown",
   "id": "61820e7a-8f50-46b9-bf23-e95b99f70127",
   "metadata": {},
   "source": [
    "3. Evaluate the Model"
   ]
  },
  {
   "cell_type": "code",
   "execution_count": 10,
   "id": "b3819e12-37a7-4235-b0df-cd553fff7eef",
   "metadata": {},
   "outputs": [
    {
     "name": "stdout",
     "output_type": "stream",
     "text": [
      "Classification Report:\n",
      "              precision    recall  f1-score   support\n",
      "\n",
      "           0       0.98      1.00      0.99      1202\n",
      "           1       0.33      0.08      0.12        26\n",
      "\n",
      "    accuracy                           0.98      1228\n",
      "   macro avg       0.66      0.54      0.56      1228\n",
      "weighted avg       0.97      0.98      0.97      1228\n",
      "\n",
      "Prediction for example data: Win\n"
     ]
    },
    {
     "name": "stderr",
     "output_type": "stream",
     "text": [
      "C:\\Python311\\Lib\\site-packages\\sklearn\\base.py:493: UserWarning: X does not have valid feature names, but LogisticRegression was fitted with feature names\n",
      "  warnings.warn(\n"
     ]
    }
   ],
   "source": [
    "# Show a classification report\n",
    "print(\"Classification Report:\")\n",
    "print(classification_report(y_test, y_pred))\n",
    "\n",
    "# Example: Test a custom case\n",
    "example_data = [[3, 0.75]]  # Fighter with 3 KO losses and 75% win rate\n",
    "example_prediction = model.predict(example_data)\n",
    "print(f\"Prediction for example data: {'Win' if example_prediction[0] == 1 else 'Loss'}\")\n"
   ]
  },
  {
   "cell_type": "markdown",
   "id": "2d2b75c8-12b4-433e-a775-55d820cc02e3",
   "metadata": {},
   "source": [
    "# Analysis of Predictions\n",
    "\n",
    "The model gave an accuracy score of **98%**, which sounds really good at first. But when I looked at the classification report, I realized it’s not as great as it seems. The model is really good at predicting losses (class 0) because almost everyone in the dataset ends up in that group. It got 98% precision and 100% recall for losses, which means it almost never misses those predictions.\n",
    "\n",
    "On the other hand, the model wasn’t very good at predicting wins (class 1). It only had a precision of 33% and a recall of 8%. That means even when someone actually wins, the model barely catches it. This happens because there aren’t many examples of fighters who win after a KO in the dataset, so the model just defaults to predicting losses most of the time.\n",
    "\n",
    "## Example Prediction\n",
    "I tested the model with a fighter who has 3 KO losses and a 75% win rate. The model predicted that they would win their next match. That seems fair because fighters with higher win rates tend to perform better, even after getting KO’d a few times. But because the model struggles to predict wins, I wouldn’t trust it completely in real situations.\n"
   ]
  },
  {
   "cell_type": "markdown",
   "id": "d4c1c2ee-4990-4cd1-8e63-f366db42241c",
   "metadata": {},
   "source": [
    "# Reflection\n",
    "\n",
    "This project showed me how much getting KO’d can affect a boxer’s career. The more KO losses a fighter has, the harder it seems for them to bounce back and win future matches. Both the scatter plot and the bar plot showed a clear pattern: fighters with more KO losses usually have lower post-KO win percentages. This fits with what Clausen et al. (2005) said about brain injuries in boxing causing long-term performance issues.\n",
    "\n",
    "One of the hardest parts of the project was dealing with fighters who stopped fighting after their first KO. At first, their data made it look like KO losses didn’t hurt performance as much, but once I filtered them out, the trends made a lot more sense. Another challenge was working with an imbalanced dataset, where most fighters didn’t win after their first KO. This made it harder for the predictive model to guess wins accurately, even though it had an overall accuracy of 98%.\n",
    "\n",
    "If I had more time, I’d want to get a bigger dataset with more details, like age, weight class, or fight history. These could help make the predictions more realistic. I’d also try balancing the data to improve the model’s ability to predict wins, since the recall for wins was really low. Overall, this project taught me how important it is to clean and understand your data before jumping into analysis, and how things like missing data or imbalance can seriously affect your results.\n"
   ]
  },
  {
   "cell_type": "markdown",
   "id": "22640391-3258-49b7-a595-7d8aa37ef599",
   "metadata": {},
   "source": [
    "# References\n",
    "\n",
    "1. Clausen, H., McCrory, P., & Anderson, V. (2005). The risk of chronic traumatic brain injury in professional boxing: Change in exposure variables over the past century. *British Journal of Sports Medicine*, 39(9), 661–664.\n",
    "\n",
    "2. Kerr, Z. Y., Chandran, A., Nedimyer, A. K., Arakkal, A., & Pierpoint, L. A. (2017). Concussion incidence and trends in 20 high school sports. *Pediatrics*, 139(6), e20162020.\n",
    "\n",
    "3. McCrea, M., Guskiewicz, K. M., Marshall, S. W., Barr, W., Randolph, C., & Cantu, R. C. (2003). Acute effects and recovery time following concussion in collegiate football players: The NCAA Concussion Study. *JAMA*, 290(19), 2556–2563.\n",
    "\n",
    "4. Rowson, S., & Duma, S. M. (2011). Development of the STAR evaluation system for football helmets: Integrating player head impact exposure and risk of concussion. *Annals of Biomedical Engineering*, 39(8), 2130–2140.\n"
   ]
  }
 ],
 "metadata": {
  "kernelspec": {
   "display_name": "Python 3 (ipykernel)",
   "language": "python",
   "name": "python3"
  },
  "language_info": {
   "codemirror_mode": {
    "name": "ipython",
    "version": 3
   },
   "file_extension": ".py",
   "mimetype": "text/x-python",
   "name": "python",
   "nbconvert_exporter": "python",
   "pygments_lexer": "ipython3",
   "version": "3.11.4"
  }
 },
 "nbformat": 4,
 "nbformat_minor": 5
}
